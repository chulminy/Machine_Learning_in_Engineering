{
  "nbformat": 4,
  "nbformat_minor": 0,
  "metadata": {
    "colab": {
      "provenance": []
    },
    "kernelspec": {
      "name": "python3",
      "display_name": "Python 3"
    },
    "language_info": {
      "name": "python"
    },
    "widgets": {
      "application/vnd.jupyter.widget-state+json": {
        "04bbf731be274dd0bcfa17af1ff4122d": {
          "model_module": "@jupyter-widgets/controls",
          "model_name": "VBoxModel",
          "model_module_version": "1.5.0",
          "state": {
            "_dom_classes": [
              "widget-interact"
            ],
            "_model_module": "@jupyter-widgets/controls",
            "_model_module_version": "1.5.0",
            "_model_name": "VBoxModel",
            "_view_count": null,
            "_view_module": "@jupyter-widgets/controls",
            "_view_module_version": "1.5.0",
            "_view_name": "VBoxView",
            "box_style": "",
            "children": [
              "IPY_MODEL_bbd04c9a9f2d44f49d0d495b0d6722cc",
              "IPY_MODEL_c71f1b6946b84d069733a22aee92b663",
              "IPY_MODEL_490ce0bbd4c74f76bd65026df1611598"
            ],
            "layout": "IPY_MODEL_a207c550cb9d41b1902afc70e549bd56"
          }
        },
        "bbd04c9a9f2d44f49d0d495b0d6722cc": {
          "model_module": "@jupyter-widgets/controls",
          "model_name": "IntSliderModel",
          "model_module_version": "1.5.0",
          "state": {
            "_dom_classes": [],
            "_model_module": "@jupyter-widgets/controls",
            "_model_module_version": "1.5.0",
            "_model_name": "IntSliderModel",
            "_view_count": null,
            "_view_module": "@jupyter-widgets/controls",
            "_view_module_version": "1.5.0",
            "_view_name": "IntSliderView",
            "continuous_update": true,
            "description": "random_state",
            "description_tooltip": null,
            "disabled": false,
            "layout": "IPY_MODEL_fc2bad59ac5d489c9ebf2f2ab77fb163",
            "max": 10,
            "min": 1,
            "orientation": "horizontal",
            "readout": true,
            "readout_format": "d",
            "step": 1,
            "style": "IPY_MODEL_8039caa38996446b85033c58dc001bc4",
            "value": 5
          }
        },
        "c71f1b6946b84d069733a22aee92b663": {
          "model_module": "@jupyter-widgets/controls",
          "model_name": "IntSliderModel",
          "model_module_version": "1.5.0",
          "state": {
            "_dom_classes": [],
            "_model_module": "@jupyter-widgets/controls",
            "_model_module_version": "1.5.0",
            "_model_name": "IntSliderModel",
            "_view_count": null,
            "_view_module": "@jupyter-widgets/controls",
            "_view_module_version": "1.5.0",
            "_view_name": "IntSliderView",
            "continuous_update": true,
            "description": "N",
            "description_tooltip": null,
            "disabled": false,
            "layout": "IPY_MODEL_aa5d66580a184378b457ebaf8ca493d2",
            "max": 10,
            "min": 2,
            "orientation": "horizontal",
            "readout": true,
            "readout_format": "d",
            "step": 1,
            "style": "IPY_MODEL_048687d038434297922ca446e1b73ad5",
            "value": 6
          }
        },
        "490ce0bbd4c74f76bd65026df1611598": {
          "model_module": "@jupyter-widgets/output",
          "model_name": "OutputModel",
          "model_module_version": "1.0.0",
          "state": {
            "_dom_classes": [],
            "_model_module": "@jupyter-widgets/output",
            "_model_module_version": "1.0.0",
            "_model_name": "OutputModel",
            "_view_count": null,
            "_view_module": "@jupyter-widgets/output",
            "_view_module_version": "1.0.0",
            "_view_name": "OutputView",
            "layout": "IPY_MODEL_796b7162e7f14f2eab1564ddf3492565",
            "msg_id": "",
            "outputs": [
              {
                "output_type": "stream",
                "name": "stdout",
                "text": [
                  "[1 2 3 4 5 6]\n"
                ]
              },
              {
                "output_type": "display_data",
                "data": {
                  "text/plain": "<Figure size 432x288 with 1 Axes>",
                  "image/png": "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\n"
                },
                "metadata": {
                  "needs_background": "light"
                }
              }
            ]
          }
        },
        "a207c550cb9d41b1902afc70e549bd56": {
          "model_module": "@jupyter-widgets/base",
          "model_name": "LayoutModel",
          "model_module_version": "1.2.0",
          "state": {
            "_model_module": "@jupyter-widgets/base",
            "_model_module_version": "1.2.0",
            "_model_name": "LayoutModel",
            "_view_count": null,
            "_view_module": "@jupyter-widgets/base",
            "_view_module_version": "1.2.0",
            "_view_name": "LayoutView",
            "align_content": null,
            "align_items": null,
            "align_self": null,
            "border": null,
            "bottom": null,
            "display": null,
            "flex": null,
            "flex_flow": null,
            "grid_area": null,
            "grid_auto_columns": null,
            "grid_auto_flow": null,
            "grid_auto_rows": null,
            "grid_column": null,
            "grid_gap": null,
            "grid_row": null,
            "grid_template_areas": null,
            "grid_template_columns": null,
            "grid_template_rows": null,
            "height": null,
            "justify_content": null,
            "justify_items": null,
            "left": null,
            "margin": null,
            "max_height": null,
            "max_width": null,
            "min_height": null,
            "min_width": null,
            "object_fit": null,
            "object_position": null,
            "order": null,
            "overflow": null,
            "overflow_x": null,
            "overflow_y": null,
            "padding": null,
            "right": null,
            "top": null,
            "visibility": null,
            "width": null
          }
        },
        "fc2bad59ac5d489c9ebf2f2ab77fb163": {
          "model_module": "@jupyter-widgets/base",
          "model_name": "LayoutModel",
          "model_module_version": "1.2.0",
          "state": {
            "_model_module": "@jupyter-widgets/base",
            "_model_module_version": "1.2.0",
            "_model_name": "LayoutModel",
            "_view_count": null,
            "_view_module": "@jupyter-widgets/base",
            "_view_module_version": "1.2.0",
            "_view_name": "LayoutView",
            "align_content": null,
            "align_items": null,
            "align_self": null,
            "border": null,
            "bottom": null,
            "display": null,
            "flex": null,
            "flex_flow": null,
            "grid_area": null,
            "grid_auto_columns": null,
            "grid_auto_flow": null,
            "grid_auto_rows": null,
            "grid_column": null,
            "grid_gap": null,
            "grid_row": null,
            "grid_template_areas": null,
            "grid_template_columns": null,
            "grid_template_rows": null,
            "height": null,
            "justify_content": null,
            "justify_items": null,
            "left": null,
            "margin": null,
            "max_height": null,
            "max_width": null,
            "min_height": null,
            "min_width": null,
            "object_fit": null,
            "object_position": null,
            "order": null,
            "overflow": null,
            "overflow_x": null,
            "overflow_y": null,
            "padding": null,
            "right": null,
            "top": null,
            "visibility": null,
            "width": null
          }
        },
        "8039caa38996446b85033c58dc001bc4": {
          "model_module": "@jupyter-widgets/controls",
          "model_name": "SliderStyleModel",
          "model_module_version": "1.5.0",
          "state": {
            "_model_module": "@jupyter-widgets/controls",
            "_model_module_version": "1.5.0",
            "_model_name": "SliderStyleModel",
            "_view_count": null,
            "_view_module": "@jupyter-widgets/base",
            "_view_module_version": "1.2.0",
            "_view_name": "StyleView",
            "description_width": "",
            "handle_color": null
          }
        },
        "aa5d66580a184378b457ebaf8ca493d2": {
          "model_module": "@jupyter-widgets/base",
          "model_name": "LayoutModel",
          "model_module_version": "1.2.0",
          "state": {
            "_model_module": "@jupyter-widgets/base",
            "_model_module_version": "1.2.0",
            "_model_name": "LayoutModel",
            "_view_count": null,
            "_view_module": "@jupyter-widgets/base",
            "_view_module_version": "1.2.0",
            "_view_name": "LayoutView",
            "align_content": null,
            "align_items": null,
            "align_self": null,
            "border": null,
            "bottom": null,
            "display": null,
            "flex": null,
            "flex_flow": null,
            "grid_area": null,
            "grid_auto_columns": null,
            "grid_auto_flow": null,
            "grid_auto_rows": null,
            "grid_column": null,
            "grid_gap": null,
            "grid_row": null,
            "grid_template_areas": null,
            "grid_template_columns": null,
            "grid_template_rows": null,
            "height": null,
            "justify_content": null,
            "justify_items": null,
            "left": null,
            "margin": null,
            "max_height": null,
            "max_width": null,
            "min_height": null,
            "min_width": null,
            "object_fit": null,
            "object_position": null,
            "order": null,
            "overflow": null,
            "overflow_x": null,
            "overflow_y": null,
            "padding": null,
            "right": null,
            "top": null,
            "visibility": null,
            "width": null
          }
        },
        "048687d038434297922ca446e1b73ad5": {
          "model_module": "@jupyter-widgets/controls",
          "model_name": "SliderStyleModel",
          "model_module_version": "1.5.0",
          "state": {
            "_model_module": "@jupyter-widgets/controls",
            "_model_module_version": "1.5.0",
            "_model_name": "SliderStyleModel",
            "_view_count": null,
            "_view_module": "@jupyter-widgets/base",
            "_view_module_version": "1.2.0",
            "_view_name": "StyleView",
            "description_width": "",
            "handle_color": null
          }
        },
        "796b7162e7f14f2eab1564ddf3492565": {
          "model_module": "@jupyter-widgets/base",
          "model_name": "LayoutModel",
          "model_module_version": "1.2.0",
          "state": {
            "_model_module": "@jupyter-widgets/base",
            "_model_module_version": "1.2.0",
            "_model_name": "LayoutModel",
            "_view_count": null,
            "_view_module": "@jupyter-widgets/base",
            "_view_module_version": "1.2.0",
            "_view_name": "LayoutView",
            "align_content": null,
            "align_items": null,
            "align_self": null,
            "border": null,
            "bottom": null,
            "display": null,
            "flex": null,
            "flex_flow": null,
            "grid_area": null,
            "grid_auto_columns": null,
            "grid_auto_flow": null,
            "grid_auto_rows": null,
            "grid_column": null,
            "grid_gap": null,
            "grid_row": null,
            "grid_template_areas": null,
            "grid_template_columns": null,
            "grid_template_rows": null,
            "height": null,
            "justify_content": null,
            "justify_items": null,
            "left": null,
            "margin": null,
            "max_height": null,
            "max_width": null,
            "min_height": null,
            "min_width": null,
            "object_fit": null,
            "object_position": null,
            "order": null,
            "overflow": null,
            "overflow_x": null,
            "overflow_y": null,
            "padding": null,
            "right": null,
            "top": null,
            "visibility": null,
            "width": null
          }
        }
      }
    }
  },
  "cells": [
    {
      "cell_type": "markdown",
      "source": [
        "# Figure 2.1: Discrete Probability Distribution Plot \n"
      ],
      "metadata": {
        "id": "9FiK2GKcEe3p"
      }
    },
    {
      "cell_type": "code",
      "execution_count": 1,
      "metadata": {
        "id": "nBI0XTZFDYd6",
        "colab": {
          "base_uri": "https://localhost:8080/"
        },
        "outputId": "3862a224-741b-495c-9708-c874a9f1a440"
      },
      "outputs": [
        {
          "output_type": "stream",
          "name": "stdout",
          "text": [
            "  Installing build dependencies ... \u001b[?25l\u001b[?25hdone\n",
            "  Getting requirements to build wheel ... \u001b[?25l\u001b[?25hdone\n",
            "    Preparing wheel metadata ... \u001b[?25l\u001b[?25hdone\n",
            "\u001b[K     |████████████████████████████████| 88 kB 3.8 MB/s \n",
            "\u001b[K     |████████████████████████████████| 272 kB 18.4 MB/s \n",
            "\u001b[K     |████████████████████████████████| 132 kB 47.6 MB/s \n",
            "\u001b[K     |████████████████████████████████| 85 kB 4.2 MB/s \n",
            "\u001b[K     |████████████████████████████████| 121 kB 46.8 MB/s \n",
            "\u001b[K     |████████████████████████████████| 1.6 MB 40.9 MB/s \n",
            "\u001b[K     |████████████████████████████████| 83 kB 1.4 MB/s \n",
            "\u001b[K     |████████████████████████████████| 1.1 MB 51.9 MB/s \n",
            "\u001b[?25h  Building wheel for probml-utils (PEP 517) ... \u001b[?25l\u001b[?25hdone\n",
            "  Building wheel for TexSoup (setup.py) ... \u001b[?25l\u001b[?25hdone\n",
            "  Building wheel for umap-learn (setup.py) ... \u001b[?25l\u001b[?25hdone\n",
            "  Building wheel for pynndescent (setup.py) ... \u001b[?25l\u001b[?25hdone\n"
          ]
        }
      ],
      "source": [
        "import jax\n",
        "import jax.numpy as jnp\n",
        "import matplotlib.pyplot as plt\n",
        "import seaborn as sns\n",
        "\n",
        "try:\n",
        "    from probml_utils import savefig, latexify\n",
        "except ModuleNotFoundError:\n",
        "    %pip install -qq git+https://github.com/probml/probml-utils.git\n",
        "    from probml_utils import savefig, latexify"
      ]
    },
    {
      "cell_type": "code",
      "source": [
        "latexify(width_scale_factor=2)"
      ],
      "metadata": {
        "id": "GpUoZRaMEuPB",
        "colab": {
          "base_uri": "https://localhost:8080/"
        },
        "outputId": "1f7de2cb-79d8-4c89-be88-ac681be9c7ca"
      },
      "execution_count": 2,
      "outputs": [
        {
          "output_type": "stream",
          "name": "stderr",
          "text": [
            "/usr/local/lib/python3.8/dist-packages/probml_utils/plotting.py:25: UserWarning: LATEXIFY environment variable not set, not latexifying\n",
            "  warnings.warn(\"LATEXIFY environment variable not set, not latexifying\")\n"
          ]
        }
      ]
    },
    {
      "cell_type": "code",
      "source": [
        "# Bar graphs showing a uniform discrete distribution and another with full mass on one value.\n",
        "def make_graph(probs, N, save_name, fig=None, ax=None):\n",
        "    x = jnp.arange(1, N + 1)\n",
        "    print(x)\n",
        "    if fig is None:\n",
        "        fig, ax = plt.subplots()\n",
        "    ax.bar(x, probs, align=\"center\")\n",
        "    ax.set_xlim([min(x) - 0.5, max(x) + 0.5])\n",
        "    ax.set_xticks(x)\n",
        "    ax.set_yticks(jnp.linspace(0, 1, N + 1))\n",
        "    ax.set_xlabel(\"$x$\")\n",
        "    ax.set_ylabel(\"$Pr(X=x)$\")\n",
        "    sns.despine()\n",
        "    if len(save_name) > 0:\n",
        "        savefig(save_name)\n",
        "    return fig, ax\n",
        "\n",
        "\n",
        "# N = 4\n",
        "N = 5\n",
        "\n",
        "uniform_probs = jnp.repeat(1.0 / N, N)\n",
        "_, _ = make_graph(\n",
        "    uniform_probs, N, \"uniform_histogram\"\n",
        ")  # Do not add .pdf or .png as it is automatically added by savefig method\n",
        "\n",
        "# delta_probs = jnp.array([1, 0, 0, 0])\n",
        "delta_probs = jnp.zeros(N)\n",
        "delta_probs = delta_probs.at[0].set(1)\n",
        "print(delta_probs)\n",
        "\n",
        "_, _ = make_graph(delta_probs, N, \"delta_histogram\");"
      ],
      "metadata": {
        "colab": {
          "base_uri": "https://localhost:8080/",
          "height": 654
        },
        "id": "O6c5XcZPEwFS",
        "outputId": "7d6973c4-ebc7-4cef-d7e0-57c9be9f2aa0"
      },
      "execution_count": 3,
      "outputs": [
        {
          "output_type": "stream",
          "name": "stderr",
          "text": [
            "WARNING:jax._src.lib.xla_bridge:No GPU/TPU found, falling back to CPU. (Set TF_CPP_MIN_LOG_LEVEL=0 and rerun for more info.)\n"
          ]
        },
        {
          "output_type": "stream",
          "name": "stdout",
          "text": [
            "[1 2 3 4 5]\n"
          ]
        },
        {
          "output_type": "stream",
          "name": "stderr",
          "text": [
            "/usr/local/lib/python3.8/dist-packages/probml_utils/plotting.py:84: UserWarning: set FIG_DIR environment variable to save figures\n",
            "  warnings.warn(\"set FIG_DIR environment variable to save figures\")\n"
          ]
        },
        {
          "output_type": "stream",
          "name": "stdout",
          "text": [
            "[1. 0. 0. 0. 0.]\n",
            "[1 2 3 4 5]\n"
          ]
        },
        {
          "output_type": "display_data",
          "data": {
            "text/plain": [
              "<Figure size 432x288 with 1 Axes>"
            ],
            "image/png": "[encoded data removed]"
          },
          "metadata": {
            "needs_background": "light"
          }
        },
        {
          "output_type": "display_data",
          "data": {
            "text/plain": [
              "<Figure size 432x288 with 1 Axes>"
            ],
            "image/png": "[encoded data removed]"
          },
          "metadata": {
            "needs_background": "light"
          }
        }
      ]
    },
    {
      "cell_type": "markdown",
      "source": [
        "## Demo\n",
        "\n",
        "You can see different examples of discrete distributions by changing the seed in the following demo."
      ],
      "metadata": {
        "id": "FNiPr8iZFA70"
      }
    },
    {
      "cell_type": "code",
      "source": [
        "from ipywidgets import interact\n",
        "\n",
        "\n",
        "@interact(random_state=(1, 10), N=(2, 10))\n",
        "def generate_random(random_state, N):\n",
        "    key = jax.random.PRNGKey(random_state)\n",
        "    probs = jax.random.uniform(key, shape=(N,))\n",
        "    probs = probs / jnp.sum(probs)\n",
        "    fig, ax = make_graph(probs, N, \"\")\n",
        "    ax.set_yticks(jnp.linspace(0, 1, 11))"
      ],
      "metadata": {
        "colab": {
          "base_uri": "https://localhost:8080/",
          "height": 365,
          "referenced_widgets": [
            "04bbf731be274dd0bcfa17af1ff4122d",
            "bbd04c9a9f2d44f49d0d495b0d6722cc",
            "c71f1b6946b84d069733a22aee92b663",
            "490ce0bbd4c74f76bd65026df1611598",
            "a207c550cb9d41b1902afc70e549bd56",
            "fc2bad59ac5d489c9ebf2f2ab77fb163",
            "8039caa38996446b85033c58dc001bc4",
            "aa5d66580a184378b457ebaf8ca493d2",
            "048687d038434297922ca446e1b73ad5",
            "796b7162e7f14f2eab1564ddf3492565"
          ]
        },
        "id": "cJxYb2neFGO4",
        "outputId": "abfe7b8d-2336-43ce-feee-ab1a5e784a7c"
      },
      "execution_count": 4,
      "outputs": [
        {
          "output_type": "display_data",
          "data": {
            "text/plain": [
              "interactive(children=(IntSlider(value=5, description='random_state', max=10, min=1), IntSlider(value=6, descri…"
            ],
            "application/vnd.jupyter.widget-view+json": {
              "version_major": 2,
              "version_minor": 0,
              "model_id": "04bbf731be274dd0bcfa17af1ff4122d"
            }
          },
          "metadata": {}
        }
      ]
    }
  ]
}